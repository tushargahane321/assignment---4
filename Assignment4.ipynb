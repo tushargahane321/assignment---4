{
 "cells": [
  {
   "cell_type": "code",
   "execution_count": null,
   "id": "8017c16f-b489-4509-ba35-9ca1d612830e",
   "metadata": {},
   "outputs": [],
   "source": [
    "#(1)_which keyword is used to create a function? create a function to return a list of odd numbers in the range of 1 to 25."
   ]
  },
  {
   "cell_type": "code",
   "execution_count": 8,
   "id": "2a8b2f3d-bde7-4233-ac61-a1431e88d2ff",
   "metadata": {},
   "outputs": [
    {
     "name": "stdout",
     "output_type": "stream",
     "text": [
      "[1, 3, 5, 7, 9, 11, 13, 15, 17, 19, 21, 23, 25]\n"
     ]
    }
   ],
   "source": [
    "l=[]\n",
    "\n",
    "for n in range(1 , 26):\n",
    "    if n % 2 != 0:\n",
    "        l.append(n)\n",
    "print(l)"
   ]
  },
  {
   "cell_type": "code",
   "execution_count": null,
   "id": "b0b8b4a4-5eef-4539-ba9a-ba51d1b78354",
   "metadata": {},
   "outputs": [],
   "source": [
    "#(2)_Why *args and *kwargs is used in some functions? create a function each for *args and **kwargs to demonstrate their use."
   ]
  },
  {
   "cell_type": "code",
   "execution_count": null,
   "id": "a1541975-ea72-4469-9b73-df46713af361",
   "metadata": {},
   "outputs": [],
   "source": [
    "*args passes variable number of non-keyworded arguments and on which operation of the tuple can be performed."
   ]
  },
  {
   "cell_type": "code",
   "execution_count": 39,
   "id": "29245076-cecb-45e1-8bc7-8a5476b60117",
   "metadata": {},
   "outputs": [
    {
     "name": "stdout",
     "output_type": "stream",
     "text": [
      "Hello\n",
      "Welcome\n",
      "to\n",
      "GeeksforGeeks\n"
     ]
    }
   ],
   "source": [
    "def myFun(*argv):\n",
    "\tfor arg in argv:\n",
    "\t\tprint(arg)\n",
    "\n",
    "\n",
    "myFun('Hello', 'Welcome', 'to', 'GeeksforGeeks')\n"
   ]
  },
  {
   "cell_type": "code",
   "execution_count": null,
   "id": "1b208de7-3d84-4fa2-b98c-ac3a87633825",
   "metadata": {},
   "outputs": [],
   "source": [
    "**kwargs passes variable number of keyword arguments dictionary to function on which operation of a dictionary can be performed"
   ]
  },
  {
   "cell_type": "code",
   "execution_count": 40,
   "id": "32feaae0-4e7d-463e-98d1-8bae9bb0a8dc",
   "metadata": {},
   "outputs": [
    {
     "name": "stdout",
     "output_type": "stream",
     "text": [
      "first == Geeks\n",
      "mid == for\n",
      "last == Geeks\n"
     ]
    }
   ],
   "source": [
    "def myFun(**kwargs):\n",
    "\tfor key, value in kwargs.items():\n",
    "\t\tprint(\"%s == %s\" % (key, value))\n",
    "\n",
    "\n",
    "# Driver code\n",
    "myFun(first='Geeks', mid='for', last='Geeks')\n"
   ]
  },
  {
   "cell_type": "code",
   "execution_count": null,
   "id": "d990eec3-6374-4d5c-ab45-9010ce71d107",
   "metadata": {},
   "outputs": [],
   "source": [
    "#(3)_What is an iterator in python? Name the method used to initialise the iterator object and the method used for iteration. use these methods to print the first five elements of the given list [2,4,6,8,10,12,14,16,18,20]."
   ]
  },
  {
   "cell_type": "code",
   "execution_count": null,
   "id": "ca17b0d2-f0a7-4f3e-8e5c-b0c6e90043a9",
   "metadata": {},
   "outputs": [],
   "source": [
    "An iterator is an object that contains a countable number of values.\n",
    "\n",
    "An iterator is an object that can be iterated upon, meaning that you can traverse through all the values.\n",
    "\n",
    "Technically, in Python, an iterator is an object which implements the iterator protocol, which consist of the methods __iter__() and __next__()."
   ]
  },
  {
   "cell_type": "code",
   "execution_count": null,
   "id": "7bf84446-5c41-46a7-8ab8-27a7e0c48443",
   "metadata": {},
   "outputs": [],
   "source": [
    "Use these methods to print the first five elements of the given list[2,4,6,8,10,12,14,16,18,20]."
   ]
  },
  {
   "cell_type": "code",
   "execution_count": 10,
   "id": "63483246-3c0c-460c-b42b-7a7007a20f88",
   "metadata": {},
   "outputs": [],
   "source": [
    "l = [2,4,6,8,10,12,14,16,18,20]"
   ]
  },
  {
   "cell_type": "code",
   "execution_count": 13,
   "id": "bf15bd56-c6aa-401a-ba0b-9d31c11b4b0e",
   "metadata": {},
   "outputs": [
    {
     "data": {
      "text/plain": [
       "[2, 4, 6, 8, 10]"
      ]
     },
     "execution_count": 13,
     "metadata": {},
     "output_type": "execute_result"
    }
   ],
   "source": [
    "[i for i in l if i<12]"
   ]
  },
  {
   "cell_type": "code",
   "execution_count": null,
   "id": "66995d7e-96a9-412d-b5ff-99e7e9b402fc",
   "metadata": {},
   "outputs": [],
   "source": [
    "#(4)_What is a generator function in python? why yield keyword is used? give an example of a generator function."
   ]
  },
  {
   "cell_type": "code",
   "execution_count": null,
   "id": "1637dd43-6339-4fc8-b45b-6645fa922524",
   "metadata": {},
   "outputs": [],
   "source": [
    "Generator functions are a special kind of function that return a lazy iterator. These are objects that you can loop over like a list. However, unlike lists, lazy iterators do not store their contents in memory"
   ]
  },
  {
   "cell_type": "code",
   "execution_count": null,
   "id": "ac557179-fb62-4dab-8fd3-78e4bc09cb4f",
   "metadata": {},
   "outputs": [],
   "source": [
    "yeild is function which use to create a generator function."
   ]
  },
  {
   "cell_type": "code",
   "execution_count": null,
   "id": "c9cad0cd-087c-489d-8735-9a52959a335e",
   "metadata": {},
   "outputs": [],
   "source": [
    "#example of generator function"
   ]
  },
  {
   "cell_type": "code",
   "execution_count": 17,
   "id": "76df23d8-5ac6-4dd4-9abd-00f1a1e6f572",
   "metadata": {},
   "outputs": [],
   "source": [
    "def square_of_sequence(x):\n",
    "    for i in range(x):\n",
    "        yield i*i"
   ]
  },
  {
   "cell_type": "code",
   "execution_count": 27,
   "id": "a9a1db2d-933d-4c88-9d3b-119f6e82ff5b",
   "metadata": {},
   "outputs": [
    {
     "name": "stdout",
     "output_type": "stream",
     "text": [
      "0\n",
      "1\n",
      "4\n",
      "9\n",
      "16\n"
     ]
    }
   ],
   "source": [
    "squres = square_of_sequence(5)\n",
    "for sqr in squres:\n",
    "    print(sqr)"
   ]
  },
  {
   "cell_type": "code",
   "execution_count": 19,
   "id": "a7adc1e9-07d0-4dd0-8dd1-98cc9c45f5de",
   "metadata": {},
   "outputs": [],
   "source": [
    "squres = (x*x for x in range(5))"
   ]
  },
  {
   "cell_type": "code",
   "execution_count": 21,
   "id": "4693bf22-f9d5-4e1e-bd70-b13acae8d4e5",
   "metadata": {},
   "outputs": [
    {
     "name": "stdout",
     "output_type": "stream",
     "text": [
      "0\n"
     ]
    }
   ],
   "source": [
    "print(next(squres))"
   ]
  },
  {
   "cell_type": "code",
   "execution_count": 22,
   "id": "faa1dedc-514f-48d9-870f-73a129c2cf21",
   "metadata": {},
   "outputs": [
    {
     "name": "stdout",
     "output_type": "stream",
     "text": [
      "1\n"
     ]
    }
   ],
   "source": [
    "print(next(squres))"
   ]
  },
  {
   "cell_type": "code",
   "execution_count": 23,
   "id": "c1832f96-b6ff-4a66-9900-935324e320c0",
   "metadata": {},
   "outputs": [
    {
     "name": "stdout",
     "output_type": "stream",
     "text": [
      "4\n"
     ]
    }
   ],
   "source": [
    "print(next(squres))"
   ]
  },
  {
   "cell_type": "code",
   "execution_count": 24,
   "id": "321a4fe2-8c3b-4fd6-93dc-dd66683cc861",
   "metadata": {},
   "outputs": [
    {
     "name": "stdout",
     "output_type": "stream",
     "text": [
      "9\n"
     ]
    }
   ],
   "source": [
    "print(next(squres))"
   ]
  },
  {
   "cell_type": "code",
   "execution_count": 25,
   "id": "7709fde7-b644-4f32-92b2-0f591b28eb58",
   "metadata": {},
   "outputs": [
    {
     "name": "stdout",
     "output_type": "stream",
     "text": [
      "16\n"
     ]
    }
   ],
   "source": [
    "print(next(squres))"
   ]
  },
  {
   "cell_type": "code",
   "execution_count": null,
   "id": "3ed5c114-47d0-42b9-b882-90b17352ea68",
   "metadata": {},
   "outputs": [],
   "source": [
    "#(5)_Create a generator function for prime number less than 1000.use the next() method to print the first 20 prime numbers."
   ]
  },
  {
   "cell_type": "code",
   "execution_count": 5,
   "id": "70d149fe-43d8-42c6-a6ab-b8672a2e83ac",
   "metadata": {},
   "outputs": [
    {
     "name": "stdout",
     "output_type": "stream",
     "text": [
      "2\n",
      "3\n",
      "5\n",
      "7\n",
      "11\n",
      "13\n",
      "17\n",
      "19\n",
      "23\n",
      "29\n",
      "31\n",
      "37\n",
      "41\n",
      "43\n",
      "47\n",
      "53\n",
      "59\n",
      "61\n",
      "67\n",
      "71\n"
     ]
    }
   ],
   "source": [
    "def prime_num():\n",
    "    num = 2\n",
    "    while num < 1000:\n",
    "        is_prime = True\n",
    "        for i in range(2, num):\n",
    "            if num % i == 0:\n",
    "                is_prime = False\n",
    "                break\n",
    "        if is_prime:\n",
    "            yield num\n",
    "        num += 1\n",
    "\n",
    "values = prime_num()\n",
    "for i in range(20):\n",
    "    print(next(values))"
   ]
  },
  {
   "cell_type": "code",
   "execution_count": null,
   "id": "091d41ef-0916-48a7-9d3b-02415c7c6302",
   "metadata": {},
   "outputs": [],
   "source": [
    "#(6)_write a python program to print the first 10 fibonacci numbers using a while loop."
   ]
  },
  {
   "cell_type": "code",
   "execution_count": 16,
   "id": "b569ed61-ddc8-4ddf-abce-59ed862c288e",
   "metadata": {},
   "outputs": [
    {
     "name": "stdin",
     "output_type": "stream",
     "text": [
      "Enter the value of 'n':  10\n"
     ]
    },
    {
     "name": "stdout",
     "output_type": "stream",
     "text": [
      "Fibonacci Series:  0 1 1 2 3 5 8 13 21 34 "
     ]
    }
   ],
   "source": [
    "n = int(input(\"Enter the value of 'n': \"))\n",
    "a = 0\n",
    "b = 1\n",
    "sum = 0\n",
    "count = 1\n",
    "print(\"Fibonacci Series: \", end = \" \")\n",
    "while(count <= n):\n",
    "  print(sum, end = \" \")\n",
    "  count += 1\n",
    "  a = b\n",
    "  b = sum\n",
    "  sum = a + b"
   ]
  },
  {
   "cell_type": "code",
   "execution_count": 19,
   "id": "52b1b39a-13b8-4fa2-b4ec-f1ec1799c84a",
   "metadata": {},
   "outputs": [],
   "source": [
    "#(7)_write a list comprehension to iterate through the given string:'pwskills'."
   ]
  },
  {
   "cell_type": "code",
   "execution_count": 20,
   "id": "18594e08-fbe0-4d53-9a46-9d7293605b75",
   "metadata": {},
   "outputs": [],
   "source": [
    "l = 'pwskills'"
   ]
  },
  {
   "cell_type": "code",
   "execution_count": 22,
   "id": "d4aab7cd-20af-4258-926c-5f1e94fd3a9a",
   "metadata": {},
   "outputs": [
    {
     "data": {
      "text/plain": [
       "['p', 'w', 's', 'k', 'i', 'l', 'l', 's']"
      ]
     },
     "execution_count": 22,
     "metadata": {},
     "output_type": "execute_result"
    }
   ],
   "source": [
    "[i for i in l]"
   ]
  },
  {
   "cell_type": "code",
   "execution_count": null,
   "id": "835e8fb4-ea89-4aaf-8344-2d8ad61c296c",
   "metadata": {},
   "outputs": [],
   "source": [
    "#(8)_write a python program to check whether a given number is palindrome or not using a while loop."
   ]
  },
  {
   "cell_type": "code",
   "execution_count": 38,
   "id": "efb69870-047b-43f2-8cf8-a3bc9bf807dc",
   "metadata": {},
   "outputs": [
    {
     "name": "stdin",
     "output_type": "stream",
     "text": [
      "Enter the number:  55\n"
     ]
    },
    {
     "name": "stdout",
     "output_type": "stream",
     "text": [
      "55 is a Palindrome\n"
     ]
    }
   ],
   "source": [
    "\n",
    "num = int(input('Enter the number: '))\n",
    "\n",
    "\n",
    "reverse = 0\n",
    "number = num\n",
    "while(num != 0):\n",
    "   remainder = num % 10\n",
    "   reverse = reverse * 10 + remainder\n",
    "   num = int(num / 10)\n",
    "\n",
    "if(number == reverse):\n",
    "   print(number,'is a Palindrome')\n",
    "else:\n",
    "   print(number,'is not a Palindrome')"
   ]
  },
  {
   "cell_type": "code",
   "execution_count": null,
   "id": "67f41388-edf3-4c46-bb45-b0eb72979185",
   "metadata": {},
   "outputs": [],
   "source": [
    "#(9)_write a code to print odd number from 1 to 100 using list comprehension."
   ]
  },
  {
   "cell_type": "code",
   "execution_count": 36,
   "id": "b50a5bde-a06c-44a9-b502-4674d8226c67",
   "metadata": {},
   "outputs": [
    {
     "data": {
      "text/plain": [
       "[1,\n",
       " 3,\n",
       " 5,\n",
       " 7,\n",
       " 9,\n",
       " 11,\n",
       " 13,\n",
       " 15,\n",
       " 17,\n",
       " 19,\n",
       " 21,\n",
       " 23,\n",
       " 25,\n",
       " 27,\n",
       " 29,\n",
       " 31,\n",
       " 33,\n",
       " 35,\n",
       " 37,\n",
       " 39,\n",
       " 41,\n",
       " 43,\n",
       " 45,\n",
       " 47,\n",
       " 49,\n",
       " 51,\n",
       " 53,\n",
       " 55,\n",
       " 57,\n",
       " 59,\n",
       " 61,\n",
       " 63,\n",
       " 65,\n",
       " 67,\n",
       " 69,\n",
       " 71,\n",
       " 73,\n",
       " 75,\n",
       " 77,\n",
       " 79,\n",
       " 81,\n",
       " 83,\n",
       " 85,\n",
       " 87,\n",
       " 89,\n",
       " 91,\n",
       " 93,\n",
       " 95,\n",
       " 97,\n",
       " 99]"
      ]
     },
     "execution_count": 36,
     "metadata": {},
     "output_type": "execute_result"
    }
   ],
   "source": [
    "[i for i in range(1,101) if i % 2 !=0]"
   ]
  },
  {
   "cell_type": "code",
   "execution_count": 35,
   "id": "7c850583-bffc-427d-b076-50e245fcff5a",
   "metadata": {},
   "outputs": [
    {
     "name": "stdout",
     "output_type": "stream",
     "text": [
      "[1, 3, 5, 7, 9, 11, 13, 15, 17, 19, 21, 23, 25, 27, 29, 31, 33, 35, 37, 39, 41, 43, 45, 47, 49, 51, 53, 55, 57, 59, 61, 63, 65, 67, 69, 71, 73, 75, 77, 79, 81, 83, 85, 87, 89, 91, 93, 95, 97, 99]\n"
     ]
    }
   ],
   "source": [
    "odd_list = [element for element in range(1, 101) if element % 2 == 1 ]\n",
    "print(odd_list)"
   ]
  },
  {
   "cell_type": "code",
   "execution_count": null,
   "id": "40482b48-93b9-4a72-9dec-7a23225c0e7e",
   "metadata": {},
   "outputs": [],
   "source": []
  }
 ],
 "metadata": {
  "kernelspec": {
   "display_name": "Python 3 (ipykernel)",
   "language": "python",
   "name": "python3"
  },
  "language_info": {
   "codemirror_mode": {
    "name": "ipython",
    "version": 3
   },
   "file_extension": ".py",
   "mimetype": "text/x-python",
   "name": "python",
   "nbconvert_exporter": "python",
   "pygments_lexer": "ipython3",
   "version": "3.10.8"
  }
 },
 "nbformat": 4,
 "nbformat_minor": 5
}
